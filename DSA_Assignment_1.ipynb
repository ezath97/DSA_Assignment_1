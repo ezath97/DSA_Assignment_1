{
 "cells": [
  {
   "cell_type": "markdown",
   "id": "ef4ebf03",
   "metadata": {},
   "source": [
    "# DSA Assignment 1"
   ]
  },
  {
   "cell_type": "code",
   "execution_count": 7,
   "id": "1dcaeba7",
   "metadata": {},
   "outputs": [
    {
     "name": "stdout",
     "output_type": "stream",
     "text": [
      "Enter:1\n",
      "Enter:2\n",
      "Enter:3\n",
      "Enter:4\n",
      "Enter:5\n",
      "1 2 3 4 5  \n",
      "Enter the Number: 8\n",
      "Sum of pair ( 3 + 5 ) is equal to 8\n",
      "Sum of pair ( 4 + 4 ) is equal to 8\n",
      "Sum of pair ( 5 + 3 ) is equal to 8\n"
     ]
    }
   ],
   "source": [
    "# Q1. Write a program to find all pairs of an integer array whose sum is equal to a given number?\n",
    "\n",
    "#Solution\n",
    "\n",
    "class array:\n",
    "    def __init__(self):\n",
    "        self.array=[]\n",
    "\n",
    "    def insert(self):\n",
    "        data = int(input('Enter:'))\n",
    "        self.array.append(data)\n",
    "        return self.array\n",
    "\n",
    "    def print_array(self):\n",
    "        for i in self.array:\n",
    "            print(i,end=' ')\n",
    "        print(' ')\n",
    "    \n",
    "    def find_sum_pair(self):\n",
    "        given_number = int(input('Enter the Number: '))\n",
    "        Match=0\n",
    "        for i in self.array:\n",
    "            for j in self.array:\n",
    "                if i+j == int(given_number):\n",
    "                    Match +=1\n",
    "                    print ('Sum of pair (',i,'+',j,') is equal to',given_number)\n",
    "        if Match == 0:\n",
    "            print('No match found')\n",
    "\n",
    "\n",
    "List=array()\n",
    "List.insert()\n",
    "List.insert()\n",
    "List.insert()\n",
    "List.insert()\n",
    "List.insert()\n",
    "List.print_array()\n",
    "List.find_sum_pair()"
   ]
  },
  {
   "cell_type": "code",
   "execution_count": 8,
   "id": "7131b6a6",
   "metadata": {},
   "outputs": [
    {
     "name": "stdout",
     "output_type": "stream",
     "text": [
      "Enter:12\n",
      "Enter:23\n",
      "Enter:34\n",
      "Enter:45\n",
      "Enter:56\n",
      "12 23 34 45 56  \n",
      "Original array Reversed\n",
      "56 45 34 23 12  \n"
     ]
    }
   ],
   "source": [
    "# Q2. Write a program to reverse an array in place? In place means you cannot create a new array. \n",
    "# You have to update the original array.\n",
    "\n",
    "class array:\n",
    "    def __init__(self):\n",
    "        self.array=[]\n",
    "\n",
    "    def insert(self):\n",
    "        data = int(input('Enter:'))\n",
    "        self.array.append(data)\n",
    "        return self.array\n",
    "\n",
    "    def print_array(self):\n",
    "        for i in self.array:\n",
    "            print(i,end=' ')\n",
    "        print(' ')\n",
    "    \n",
    "    def reverse_own(self):\n",
    "        self.array.reverse()\n",
    "        print('Original array Reversed')\n",
    "        return self.array\n",
    "\n",
    "\n",
    "List=array()\n",
    "List.insert()\n",
    "List.insert()\n",
    "List.insert()\n",
    "List.insert()\n",
    "List.insert()\n",
    "List.print_array()\n",
    "List.reverse_own()\n",
    "List.print_array()"
   ]
  },
  {
   "cell_type": "code",
   "execution_count": 12,
   "id": "829319ec",
   "metadata": {},
   "outputs": [
    {
     "name": "stdout",
     "output_type": "stream",
     "text": [
      "Enter String 1: pair\n",
      "Enter String 2: riap\n",
      "Yes!!!.... The two strings are rotation of each other\n"
     ]
    }
   ],
   "source": [
    "# Q3. Write a program to check if two strings are a rotation of each other?\n",
    "\n",
    "def String_rotation():\n",
    "    String_1 = input('Enter String 1: ')\n",
    "    String_2 = input('Enter String 2: ')\n",
    "\n",
    "    String_1_Rotaion = String_1[::-1]\n",
    "\n",
    "    if String_1_Rotaion == String_2:\n",
    "        print('Yes!!!.... The two strings are rotation of each other')\n",
    "    else:\n",
    "        print('No..... The two strings are not rotation of each other')\n",
    "\n",
    "r = String_rotation()"
   ]
  },
  {
   "cell_type": "code",
   "execution_count": 31,
   "id": "7f0b6966",
   "metadata": {},
   "outputs": [
    {
     "name": "stdout",
     "output_type": "stream",
     "text": [
      "Enter String 1: runbabyrun\n",
      "The first non-repetive character of the string --> a\n"
     ]
    }
   ],
   "source": [
    "# Q4. Write a program to print the first non-repeated character from a string?\n",
    "\n",
    "\n",
    "def First_non_repetive_char():\n",
    "    String = input('Enter String 1: ')\n",
    "    for i in String:\n",
    "        if (String.find(i,String.find(i)+1,len(String))) == -1:\n",
    "            print('The first non-repetive character of the string -->',i)\n",
    "            break\n",
    "    else:\n",
    "        print('There is no non-repeated character in the string')\n",
    "\n",
    "x = First_non_repetive_char()"
   ]
  },
  {
   "cell_type": "code",
   "execution_count": 32,
   "id": "155a5fba",
   "metadata": {},
   "outputs": [
    {
     "name": "stdout",
     "output_type": "stream",
     "text": [
      "Enter number of disks: 3\n",
      "Move disk 1 from rod A to rod C\n",
      "Move disk 2 from rod A to rod C\n",
      "Move disk 1 from rod B to rod A\n",
      "Move disk 3 from rod A to rod C\n",
      "Move disk 1 from rod B to rod A\n",
      "Move disk 2 from rod B to rod A\n",
      "Move disk 1 from rod C to rod B\n"
     ]
    }
   ],
   "source": [
    "# Q5. Read about the Tower of Hanoi algorithm. Write a program to implement it.\n",
    "\n",
    "def TowerOfHanoi(n, From, Extra, To):\n",
    "    if n == 0:\n",
    "        return\n",
    "    TowerOfHanoi(n-1, From, Extra, To)\n",
    "    print(\"Move disk\", n, \"from rod\", From, \"to rod\", To)\n",
    "    TowerOfHanoi(n-1, Extra, To, From)\n",
    "\n",
    "X=int(input('Enter number of disks: '))\n",
    "TowerOfHanoi(X, 'A', 'B', 'C')"
   ]
  },
  {
   "cell_type": "code",
   "execution_count": 34,
   "id": "110d7f30",
   "metadata": {},
   "outputs": [
    {
     "name": "stdout",
     "output_type": "stream",
     "text": [
      "Postfix Expression:  AB+CD-/\n",
      "Prefix Expression:  /+AB-CD\n"
     ]
    }
   ],
   "source": [
    "# Q6. Read about infix, prefix, and postfix expressions. Write a program to convert postfix to prefix expression.\n",
    "\n",
    "def Operator_check(x):\n",
    "    Operator=['+','-','/','*']\n",
    "    if x in Operator:\n",
    "        return True \n",
    "    return False\n",
    "\n",
    "def Post_to_Pre(expression):\n",
    "    stack = []\n",
    "    N = len(expression)\n",
    "    for i in range(N):\n",
    "        if (Operator_check(expression[i])):\n",
    "            A = stack[-1]\n",
    "            stack.pop()\n",
    "            B = stack[-1]\n",
    "            stack.pop()\n",
    "            temp = expression[i] + B + A\n",
    "            stack.append(temp)\n",
    "        else:\n",
    "            stack.append(expression[i])\n",
    " \n",
    "    Pre_Expression = ''\n",
    "    for i in stack:\n",
    "        Pre_Expression += i\n",
    "    print('Postfix Expression: ',expression)\n",
    "    print('Prefix Expression: ',Pre_Expression)\n",
    "    return Pre_Expression\n",
    "\n",
    "\n",
    "X=Post_to_Pre('AB+CD-/')\n"
   ]
  },
  {
   "cell_type": "code",
   "execution_count": 36,
   "id": "e9288094",
   "metadata": {},
   "outputs": [
    {
     "name": "stdout",
     "output_type": "stream",
     "text": [
      "Prefix Expression:  *-A/BC-/AKL\n",
      "Infix Expression:  ((A-(B/C))*((A/K)-L))\n"
     ]
    }
   ],
   "source": [
    "# Q7. Write a program to convert prefix expression to infix expression.\n",
    "\n",
    "\n",
    "def Operator_check(x):\n",
    "    Operator=['+','-','/','*']\n",
    "    if x in Operator:\n",
    "        return True \n",
    "    return False\n",
    "\n",
    "def Pre_to_Infix(expression):\n",
    "    stack = []\n",
    "    i = len(expression)-1\n",
    "    while i >= 0:\n",
    "        if not Operator_check(expression[i]):\n",
    "            stack.append(expression[i])\n",
    "            i -= 1\n",
    "        else:\n",
    "            str = \"(\" + stack.pop() + expression[i] + stack.pop() + \")\"\n",
    "            stack.append(str)\n",
    "            i -= 1\n",
    "    stack = stack.pop()\n",
    "    print('Prefix Expression: ',expression)\n",
    "    print('Infix Expression: ',stack)\n",
    "    return\n",
    " \n",
    "X=Pre_to_Infix('*-A/BC-/AKL')"
   ]
  },
  {
   "cell_type": "code",
   "execution_count": 44,
   "id": "2787a505",
   "metadata": {},
   "outputs": [
    {
     "name": "stdout",
     "output_type": "stream",
     "text": [
      "All brackets are closed in this String: {1:[2+3]},{DDF:{(D34):7}}\n"
     ]
    }
   ],
   "source": [
    "# Q8. Write a program to check if all the brackets are closed in a given code snippet.\n",
    "\n",
    "\n",
    "def Check_brackets(String):\n",
    "    open_brackets = [\"[\",\"{\",\"(\"]\n",
    "    close_brackets = [\"]\",\"}\",\")\"]\n",
    "    stack = []\n",
    "    for i in String:\n",
    "        if i in open_brackets:\n",
    "            stack.append(i)\n",
    "        elif i in close_brackets:\n",
    "            pos = close_brackets.index(i)\n",
    "            if len(stack) > 0 and open_brackets[pos] == stack[len(stack)-1]:\n",
    "                stack.pop()\n",
    "            else:\n",
    "                print (f\"Unclosed brackets are in this String: {String}\")\n",
    "                stack.insert(0,'Unclosed')\n",
    "    if len(stack) == 0:\n",
    "        print (f\"All brackets are closed in this String: {String}\")\n",
    "    else:\n",
    "        print (f\"Unclosed brackets are in this String: {String}\")\n",
    " \n",
    "\n",
    "String=Check_brackets(\"{1:[2+3]},{DDF:{(D34):7}}\") \n",
    " "
   ]
  },
  {
   "cell_type": "code",
   "execution_count": 47,
   "id": "1708e10a",
   "metadata": {},
   "outputs": [
    {
     "name": "stdout",
     "output_type": "stream",
     "text": [
      "Enter:3\n",
      "Enter:45\n",
      "Enter:677\n",
      "Enter:4556\n",
      "Enter:34457\n",
      "3 45 677 4556 34457  \n",
      "Stack is Reversed\n",
      "34457 4556 677 45 3  \n"
     ]
    }
   ],
   "source": [
    "class Stack:\n",
    "    def __init__(self):\n",
    "        self.stack=[]\n",
    "\n",
    "    def insert(self):\n",
    "        data = int(input('Enter:'))\n",
    "        self.stack.append(data)\n",
    "        return self.stack\n",
    "\n",
    "    def print_stack(self):\n",
    "        for i in self.stack:\n",
    "            print(i,end=' ')\n",
    "        print(' ')\n",
    "    \n",
    "    def reverse_Stack(self):\n",
    "        self.stack.reverse()\n",
    "        print('Stack is Reversed')\n",
    "        return self.stack\n",
    "\n",
    "\n",
    "List=Stack()\n",
    "List.insert()\n",
    "List.insert()\n",
    "List.insert()\n",
    "List.insert()\n",
    "List.insert()\n",
    "List.print_stack()\n",
    "List.reverse_Stack()\n",
    "List.print_stack()"
   ]
  },
  {
   "cell_type": "code",
   "execution_count": 52,
   "id": "b90474f7",
   "metadata": {},
   "outputs": [
    {
     "name": "stdout",
     "output_type": "stream",
     "text": [
      "Enter:18\n",
      "Enter:34\n",
      "Enter:05\n",
      "Enter:75\n",
      "Enter:32\n",
      "18 34 5 75 32  \n",
      "Smallest number in the stack is: 5\n"
     ]
    }
   ],
   "source": [
    "# Q10. Write a program to find the smallest number using a stack.\n",
    "\n",
    "class Stack:\n",
    "    def __init__(self):\n",
    "        self.stack=[]\n",
    "\n",
    "    def insert(self):\n",
    "        data = int(input('Enter:'))\n",
    "        self.stack.append(data)\n",
    "        return self.stack\n",
    "\n",
    "    def print_stack(self):\n",
    "        for i in self.stack:\n",
    "            print(i,end=' ')\n",
    "        print(' ')\n",
    "    \n",
    "    def Smallest_number(self):\n",
    "        x=sorted(self.stack)\n",
    "        print(f'Smallest number in the stack is: {x[0]}')\n",
    "        return\n",
    "\n",
    "\n",
    "List=Stack()\n",
    "List.insert()\n",
    "List.insert()\n",
    "List.insert()\n",
    "List.insert()\n",
    "List.insert()\n",
    "List.print_stack()\n",
    "List.Smallest_number()\n"
   ]
  },
  {
   "cell_type": "code",
   "execution_count": null,
   "id": "89ee1976",
   "metadata": {},
   "outputs": [],
   "source": []
  }
 ],
 "metadata": {
  "kernelspec": {
   "display_name": "Python 3 (ipykernel)",
   "language": "python",
   "name": "python3"
  },
  "language_info": {
   "codemirror_mode": {
    "name": "ipython",
    "version": 3
   },
   "file_extension": ".py",
   "mimetype": "text/x-python",
   "name": "python",
   "nbconvert_exporter": "python",
   "pygments_lexer": "ipython3",
   "version": "3.9.13"
  }
 },
 "nbformat": 4,
 "nbformat_minor": 5
}
